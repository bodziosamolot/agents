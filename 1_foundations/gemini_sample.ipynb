{
 "cells": [
  {
   "cell_type": "code",
   "execution_count": 3,
   "id": "c47b4e36",
   "metadata": {},
   "outputs": [
    {
     "name": "stdout",
     "output_type": "stream",
     "text": [
      "ChatCompletionMessage(content='Okay, let\\'s break down how AI works, from the basic concepts to some of the common techniques. It\\'s a broad field, so I\\'ll try to give you a good overview without getting too bogged down in jargon.\\n\\n**What is AI?**\\n\\nAt its core, Artificial Intelligence (AI) is about creating computer systems that can perform tasks that typically require human intelligence.  These tasks include:\\n\\n*   **Learning:**  Acquiring information and rules for using that information.\\n*   **Reasoning:**  Using logic and inference to draw conclusions.\\n*   **Problem-solving:**  Finding solutions to complex issues.\\n*   **Perception:**  Interpreting sensory input (like images, sound, or text).\\n*   **Natural Language Processing:** Understanding and generating human language.\\n\\n**The Fundamental Idea: Algorithms and Data**\\n\\nAI systems work by using **algorithms** and **data**. Think of it like this:\\n\\n*   **Algorithms:** These are sets of instructions, like a recipe, that tell the computer how to process information. AI algorithms are designed to find patterns, make predictions, or take actions based on the data they are given.\\n*   **Data:** This is the raw material that the algorithms work with.  It could be anything: images, text, numbers, sounds, or sensor readings. The more data an AI system has, the better it can usually learn and perform.\\n\\n**Two Main Approaches to AI**\\n\\nHistorically, there have been two major approaches to AI:\\n\\n1.  **Symbolic AI (Rule-Based AI):**\\n    *   **How it works:** This approach focuses on representing knowledge using symbols, rules, and logical statements.  Programmers explicitly define the rules that the AI system should follow.\\n    *   **Example:** A chess-playing program where the rules of chess are programmed in, along with strategies for evaluating moves.\\n    *   **Pros:**  Easy to understand and debug.  Good for tasks with well-defined rules.\\n    *   **Cons:**  Difficult to scale to complex, real-world problems where the rules are not always clear or easily defined.  Struggles with uncertainty and ambiguity.\\n2.  **Machine Learning (ML):**\\n    *   **How it works:** Instead of explicitly programming the rules, machine learning algorithms learn from data. They identify patterns and relationships in the data and use those patterns to make predictions or decisions.\\n    *   **Example:** A spam filter that learns to identify spam emails by analyzing the characteristics of thousands of emails that have been labeled as spam or not spam.\\n    *   **Pros:** Can handle complex and ambiguous data. Can improve its performance over time as it gets more data.\\n    *   **Cons:** Requires large amounts of data. Can be difficult to understand why a machine learning model makes a particular decision (the \"black box\" problem). Can be susceptible to bias in the data.\\n\\n**Key Concepts in Machine Learning**\\n\\nSince machine learning is the dominant approach in modern AI, let\\'s dive a bit deeper into its core ideas:\\n\\n*   **Training:** The process of feeding data to a machine learning algorithm so it can learn.\\n*   **Model:** The representation of what the algorithm has learned from the data.  It\\'s like a mathematical function or a set of rules that can be used to make predictions.\\n*   **Features:** The specific characteristics of the data that the algorithm uses for learning. For example, in image recognition, features might include edges, corners, and colors.\\n*   **Supervised Learning:** The algorithm learns from labeled data (data where the correct output is already known).\\n    *   *Example:* Training a model to classify images of cats and dogs, where each image is labeled as either \"cat\" or \"dog.\"\\n*   **Unsupervised Learning:** The algorithm learns from unlabeled data, trying to find patterns and structures on its own.\\n    *   *Example:* Clustering customers into different groups based on their purchasing behavior.\\n*   **Reinforcement Learning:** The algorithm learns by trial and error, receiving rewards or penalties for its actions.\\n    *   *Example:* Training a robot to navigate a maze, where it receives a reward for reaching the goal and penalties for bumping into walls.\\n\\n**Different Types of Machine Learning Algorithms**\\n\\nThere are many different types of machine learning algorithms, each suited for different tasks:\\n\\n*   **Linear Regression:**  Predicting a continuous value (e.g., predicting the price of a house based on its size and location).\\n*   **Logistic Regression:** Predicting a category (e.g., predicting whether a customer will click on an ad).\\n*   **Decision Trees:**  Creating a tree-like structure to represent decisions and their possible outcomes.\\n*   **Support Vector Machines (SVMs):**  Finding the best boundary to separate data points into different categories.\\n*   **Neural Networks:**  Inspired by the structure of the human brain, these are complex networks of interconnected nodes (neurons) that can learn very complex patterns.\\n\\n**Deep Learning**\\n\\nDeep learning is a subfield of machine learning that uses neural networks with many layers (hence \"deep\").  Deep learning has achieved remarkable success in areas like image recognition, natural language processing, and speech recognition.\\n\\n*   **How it works:** Deep learning models learn hierarchical representations of data, with each layer learning more abstract features.  For example, in image recognition, the first layers might learn to detect edges and corners, while later layers learn to recognize objects like faces or cars.\\n*   **Key Architectures:**\\n    *   **Convolutional Neural Networks (CNNs):**  Excellent for image and video processing.\\n    *   **Recurrent Neural Networks (RNNs):**  Well-suited for sequential data like text and time series.\\n    *   **Transformers:** A more recent architecture that has revolutionized natural language processing.\\n\\n**The AI Development Process (Simplified)**\\n\\n1.  **Define the Problem:**  What task do you want the AI to perform?\\n2.  **Gather Data:** Collect a large and relevant dataset.\\n3.  **Prepare the Data:** Clean, preprocess, and format the data for the algorithm.  This often involves dealing with missing values, noise, and inconsistencies.\\n4.  **Choose an Algorithm:** Select the appropriate machine learning algorithm based on the problem and the data.\\n5.  **Train the Model:** Feed the data to the algorithm and allow it to learn.\\n6.  **Evaluate the Model:** Test the model\\'s performance on a separate dataset to see how well it generalizes to new data.\\n7.  **Tune the Model:** Adjust the algorithm\\'s parameters to improve its performance.  This is often an iterative process.\\n8.  **Deploy the Model:** Put the model into production so it can be used to make predictions or decisions.\\n9.  **Monitor and Maintain:** Continuously monitor the model\\'s performance and retrain it as needed to keep it accurate.\\n\\n**Ethical Considerations**\\n\\nIt\\'s crucial to remember that AI is a powerful tool, and like any tool, it can be used for good or bad.  Ethical considerations are becoming increasingly important in AI development:\\n\\n*   **Bias:** AI models can inherit biases from the data they are trained on, leading to unfair or discriminatory outcomes.\\n*   **Transparency:** It can be difficult to understand why AI models make certain decisions, which raises concerns about accountability.\\n*   **Privacy:** AI systems often collect and process large amounts of personal data, raising concerns about privacy and security.\\n*   **Job Displacement:** AI automation could lead to job losses in some industries.\\n\\n**In Summary**\\n\\nAI is a field focused on creating intelligent systems.  Modern AI relies heavily on machine learning, where algorithms learn from data to make predictions or decisions.  Deep learning is a powerful subfield of machine learning that uses neural networks with many layers. Developing AI involves gathering data, training models, evaluating their performance, and deploying them in real-world applications.  Ethical considerations are paramount to ensure that AI is used responsibly and for the benefit of society.\\n\\nI hope this explanation is helpful! Let me know if you have any more questions.\\n', refusal=None, role='assistant', annotations=None, audio=None, function_call=None, tool_calls=None)\n"
     ]
    }
   ],
   "source": [
    "from openai import OpenAI\n",
    "import os\n",
    "\n",
    "gemini_api_key = os.getenv('GEMINI_API_KEY')\n",
    "\n",
    "client = OpenAI(\n",
    "    api_key=gemini_api_key,\n",
    "    base_url=\"https://generativelanguage.googleapis.com/v1beta/openai/\"\n",
    ")\n",
    "\n",
    "response = client.chat.completions.create(\n",
    "    model=\"gemini-2.0-flash\",\n",
    "    messages=[\n",
    "        {\"role\": \"system\", \"content\": \"You are a helpful assistant.\"},\n",
    "        {\n",
    "            \"role\": \"user\",\n",
    "            \"content\": \"Explain to me how AI works\"\n",
    "        }\n",
    "    ]\n",
    ")\n",
    "\n",
    "print(response.choices[0].message)"
   ]
  }
 ],
 "metadata": {
  "kernelspec": {
   "display_name": ".venv",
   "language": "python",
   "name": "python3"
  },
  "language_info": {
   "codemirror_mode": {
    "name": "ipython",
    "version": 3
   },
   "file_extension": ".py",
   "mimetype": "text/x-python",
   "name": "python",
   "nbconvert_exporter": "python",
   "pygments_lexer": "ipython3",
   "version": "3.12.3"
  }
 },
 "nbformat": 4,
 "nbformat_minor": 5
}
